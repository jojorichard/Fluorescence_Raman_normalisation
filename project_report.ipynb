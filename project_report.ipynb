{
 "cells": [
  {
   "cell_type": "markdown",
   "id": "bcb163ac-d27c-4c6c-9ccc-6b08f6754acc",
   "metadata": {
    "tags": []
   },
   "source": [
    "# ⚡Fluorescence spectroscopy analysis⚡\n",
    "\n",
    "## ⚙️Project functionality\n",
    "\n",
    "## 🔎Results\n",
    "\n",
    "## 🚨Limitations\n",
    "- The user is obliged to  fill manually the step, the first and last excited wavelength values. This process was not automated as different apparatus may produce different files and we decided to make it interactive, to be more inclusive, rather than automatically. \n",
    "- For the plot of suppoimposed graphs, a maximum of seven curve was allowed in order to end up with a readable graph. This can be easyl changed if necessary by adding some more colors for the curve in the list named \"colors\" and by changing the error message to a higher number.\n",
    "\n",
    "- Some types of files may not be readable --> à voir comment avec Jonas...\n",
    "- PIQUE DE RAMAN and its sometimes-strange --> à voir comment avec Jonas...\n",
    "- autre problème rencontré\n",
    "\n",
    "## 💥Challenges\n",
    "- Personalisation\n",
    "- Include a maximum of cases --> interactive questions to include preferences and more cases.\n",
    "- Read different types of files. \n",
    "\n",
    "This code is meant to serve a wide range of spectroscopy machines with different file output. To do so, many questions are asked to the user, from which the answers are required, such as: apparatus’s step, first and last excited wavelength values, name of the column in the file, ... Some loops were nevertheless created to enable the user to take \"shortcuts\" if for example all the datas are located on the exact same file.\n",
    "\n",
    "Normalization of the values was a crucial step because it is essential to determine the correct Raman cross-section of water. This process allows for the results obtained to be compared accurately with those from any other instrument or experimental setup.\n",
    "\n",
    "\n",
    "\n",
    "Furthermore, our aim was to create an interactive code to allow a maximum of personalisation. We, thus, included several customized functionalities when plotting the graph. For instance, superposing various excited wavelengths curves in one graph or only plotting one excited wavelength in particular. ZOOM\n"
   ]
  },
  {
   "cell_type": "markdown",
   "id": "5a71dcf2-b4a5-4039-b171-2df9f7963f87",
   "metadata": {},
   "source": [
    "\n"
   ]
  }
 ],
 "metadata": {
  "kernelspec": {
   "display_name": "Python 3 (ipykernel)",
   "language": "python",
   "name": "python3"
  },
  "language_info": {
   "codemirror_mode": {
    "name": "ipython",
    "version": 3
   },
   "file_extension": ".py",
   "mimetype": "text/x-python",
   "name": "python",
   "nbconvert_exporter": "python",
   "pygments_lexer": "ipython3",
   "version": "3.11.5"
  }
 },
 "nbformat": 4,
 "nbformat_minor": 5
}
